{
 "cells": [
  {
   "cell_type": "markdown",
   "metadata": {
    "toc": true
   },
   "source": [
    "<h1>Содержание<span class=\"tocSkip\"></span></h1>\n",
    "<div class=\"toc\"><ul class=\"toc-item\"><li><span><a href=\"#Загрузка-данных\" data-toc-modified-id=\"Загрузка-данных-1\"><span class=\"toc-item-num\">1&nbsp;&nbsp;</span>Загрузка данных</a></span></li><li><span><a href=\"#Умножение-матриц\" data-toc-modified-id=\"Умножение-матриц-2\"><span class=\"toc-item-num\">2&nbsp;&nbsp;</span>Умножение матриц</a></span></li><li><span><a href=\"#Алгоритм-преобразования\" data-toc-modified-id=\"Алгоритм-преобразования-3\"><span class=\"toc-item-num\">3&nbsp;&nbsp;</span>Алгоритм преобразования</a></span></li><li><span><a href=\"#Проверка-алгоритма\" data-toc-modified-id=\"Проверка-алгоритма-4\"><span class=\"toc-item-num\">4&nbsp;&nbsp;</span>Проверка алгоритма</a></span></li><li><span><a href=\"#Чек-лист-проверки\" data-toc-modified-id=\"Чек-лист-проверки-5\"><span class=\"toc-item-num\">5&nbsp;&nbsp;</span>Чек-лист проверки</a></span></li></ul></div>"
   ]
  },
  {
   "cell_type": "markdown",
   "metadata": {},
   "source": [
    "# Защита персональных данных клиентов"
   ]
  },
  {
   "cell_type": "markdown",
   "metadata": {},
   "source": [
    "Вам нужно защитить данные клиентов страховой компании «Хоть потоп». Разработайте такой метод преобразования данных, чтобы по ним было сложно восстановить персональную информацию. Обоснуйте корректность его работы.\n",
    "\n",
    "Нужно защитить данные, чтобы при преобразовании качество моделей машинного обучения не ухудшилось. Подбирать наилучшую модель не требуется."
   ]
  },
  {
   "cell_type": "markdown",
   "metadata": {},
   "source": [
    "**Описание данных:**\n",
    "\n",
    "Признаки: пол, возраст и зарплата застрахованного, количество членов его семьи.\n",
    "\n",
    "Целевой признак: количество страховых выплат клиенту за последние 5 лет."
   ]
  },
  {
   "cell_type": "markdown",
   "metadata": {},
   "source": [
    "**Цель исследования**\n",
    "\n",
    "Разработать метод преобразования данных, чтобы по нему было сложно восстановить персональную информацию, обосновать корректность его работы, при этом не допустить, чтобы при преобразовании качество моделей машинного обучения  ухудшилось. \n",
    "\n",
    "**Ход исследования**\n",
    "\n",
    "Данные о тарифах получены их файла `datasets/insurance.csv`. В проекте мы изучим данные, определим возможность преобразования данных с защитой персональной информации, корректность ее работы.\n",
    "\n",
    "Таким образом, исследование пройдет в ряд этапов:\n",
    "- открытие файла и изучение данных; \n",
    "- анализ возможности ухудшения качества модели после преобразования, путем умножения исходной матрицы на обратимую;\n",
    "- определение алгоритма преобразования данных;\n",
    "- исследование данного алгоритма на предмет проверки на возможность ухудшения качества модели после преобразования данных. \n",
    "- формулировка итоговых выводов."
   ]
  },
  {
   "cell_type": "markdown",
   "metadata": {},
   "source": [
    "## Загрузка данных"
   ]
  },
  {
   "cell_type": "markdown",
   "metadata": {},
   "source": [
    "Первоначально загрузим необходимые нам в работе библиотеки."
   ]
  },
  {
   "cell_type": "code",
   "execution_count": 8,
   "metadata": {},
   "outputs": [],
   "source": [
    "import pandas as pd\n",
    "import numpy as np\n",
    "from sklearn.linear_model import LinearRegression\n",
    "from sklearn.metrics import r2_score\n",
    "from sklearn.model_selection import train_test_split\n",
    "from sklearn.preprocessing import StandardScaler\n",
    "from sklearn.pipeline import Pipeline\n",
    "\n",
    "import warnings\n",
    "warnings.filterwarnings('ignore')"
   ]
  },
  {
   "cell_type": "markdown",
   "metadata": {},
   "source": [
    "Загрузим датасет и взглянем на него."
   ]
  },
  {
   "cell_type": "code",
   "execution_count": 9,
   "metadata": {},
   "outputs": [
    {
     "data": {
      "text/html": [
       "<div>\n",
       "<style scoped>\n",
       "    .dataframe tbody tr th:only-of-type {\n",
       "        vertical-align: middle;\n",
       "    }\n",
       "\n",
       "    .dataframe tbody tr th {\n",
       "        vertical-align: top;\n",
       "    }\n",
       "\n",
       "    .dataframe thead th {\n",
       "        text-align: right;\n",
       "    }\n",
       "</style>\n",
       "<table border=\"1\" class=\"dataframe\">\n",
       "  <thead>\n",
       "    <tr style=\"text-align: right;\">\n",
       "      <th></th>\n",
       "      <th>Пол</th>\n",
       "      <th>Возраст</th>\n",
       "      <th>Зарплата</th>\n",
       "      <th>Члены семьи</th>\n",
       "      <th>Страховые выплаты</th>\n",
       "    </tr>\n",
       "  </thead>\n",
       "  <tbody>\n",
       "    <tr>\n",
       "      <th>0</th>\n",
       "      <td>1</td>\n",
       "      <td>41.0</td>\n",
       "      <td>49600.0</td>\n",
       "      <td>1</td>\n",
       "      <td>0</td>\n",
       "    </tr>\n",
       "    <tr>\n",
       "      <th>1</th>\n",
       "      <td>0</td>\n",
       "      <td>46.0</td>\n",
       "      <td>38000.0</td>\n",
       "      <td>1</td>\n",
       "      <td>1</td>\n",
       "    </tr>\n",
       "    <tr>\n",
       "      <th>2</th>\n",
       "      <td>0</td>\n",
       "      <td>29.0</td>\n",
       "      <td>21000.0</td>\n",
       "      <td>0</td>\n",
       "      <td>0</td>\n",
       "    </tr>\n",
       "    <tr>\n",
       "      <th>3</th>\n",
       "      <td>0</td>\n",
       "      <td>21.0</td>\n",
       "      <td>41700.0</td>\n",
       "      <td>2</td>\n",
       "      <td>0</td>\n",
       "    </tr>\n",
       "    <tr>\n",
       "      <th>4</th>\n",
       "      <td>1</td>\n",
       "      <td>28.0</td>\n",
       "      <td>26100.0</td>\n",
       "      <td>0</td>\n",
       "      <td>0</td>\n",
       "    </tr>\n",
       "  </tbody>\n",
       "</table>\n",
       "</div>"
      ],
      "text/plain": [
       "   Пол  Возраст  Зарплата  Члены семьи  Страховые выплаты\n",
       "0    1     41.0   49600.0            1                  0\n",
       "1    0     46.0   38000.0            1                  1\n",
       "2    0     29.0   21000.0            0                  0\n",
       "3    0     21.0   41700.0            2                  0\n",
       "4    1     28.0   26100.0            0                  0"
      ]
     },
     "execution_count": 9,
     "metadata": {},
     "output_type": "execute_result"
    }
   ],
   "source": [
    "try:\n",
    "    df = pd.read_csv('https://code.s3.yandex.net/datasets/insurance.csv')\n",
    "except:\n",
    "    df = pd.read_csv('D:/learn_data/insurance.csv')\n",
    "\n",
    "df.head()"
   ]
  },
  {
   "cell_type": "markdown",
   "metadata": {},
   "source": [
    "Посмотрим на общую информацию о датафрейме."
   ]
  },
  {
   "cell_type": "code",
   "execution_count": 10,
   "metadata": {
    "scrolled": true
   },
   "outputs": [
    {
     "name": "stdout",
     "output_type": "stream",
     "text": [
      "<class 'pandas.core.frame.DataFrame'>\n",
      "RangeIndex: 5000 entries, 0 to 4999\n",
      "Data columns (total 5 columns):\n",
      " #   Column             Non-Null Count  Dtype  \n",
      "---  ------             --------------  -----  \n",
      " 0   Пол                5000 non-null   int64  \n",
      " 1   Возраст            5000 non-null   float64\n",
      " 2   Зарплата           5000 non-null   float64\n",
      " 3   Члены семьи        5000 non-null   int64  \n",
      " 4   Страховые выплаты  5000 non-null   int64  \n",
      "dtypes: float64(2), int64(3)\n",
      "memory usage: 195.4 KB\n"
     ]
    }
   ],
   "source": [
    "df.info()"
   ]
  },
  {
   "cell_type": "markdown",
   "metadata": {},
   "source": [
    "Как мы видим, в датасете имеется информация о 5000 клиентах, с указанием 4 признаков (пол, возраст, зарплата, количество членов семьи) и целевого признака (количество страховых выплат за последние 5 лет). Размер датасета составляет 195.4 Kb.\n",
    "\n",
    "Далее взглянем на количество уникальных значений каждого признака, а также на количество возможных пропусков. "
   ]
  },
  {
   "cell_type": "code",
   "execution_count": 11,
   "metadata": {},
   "outputs": [
    {
     "name": "stdout",
     "output_type": "stream",
     "text": [
      "Количество уникальных значений столбца Пол : 2\n",
      "Количество уникальных значений столбца Возраст : 46\n",
      "Количество уникальных значений столбца Зарплата : 524\n",
      "Количество уникальных значений столбца Члены семьи : 7\n",
      "Количество уникальных значений столбца Страховые выплаты : 6\n",
      "\n",
      "Количество пропусков в столбце:\n",
      "Пол                  0.0\n",
      "Возраст              0.0\n",
      "Зарплата             0.0\n",
      "Члены семьи          0.0\n",
      "Страховые выплаты    0.0\n",
      "dtype: float64\n"
     ]
    }
   ],
   "source": [
    "for column in df.columns:\n",
    "    print('Количество уникальных значений столбца', column, ':', len(df[column].unique()))\n",
    "print()\n",
    "print('Количество пропусков в столбце:')    \n",
    "print(df.isna().mean())"
   ]
  },
  {
   "cell_type": "markdown",
   "metadata": {},
   "source": [
    "Как мы видим, количество уникальны значений гораздо меньше, чем число объектов, что говорит о невозможности осуществления проверки на наличие дубликатов ввиду отсутствия данных, уникальных для каждого объекта. Пропуски отсутствуют.\n",
    "\n",
    "Изменим тип данных в столбцах `'Возраст'` и `'Зарплата'` на целочисленный ввиду отсуствия дробных частей. Так же уменьшим обращение к памяти для остальных столбцов."
   ]
  },
  {
   "cell_type": "code",
   "execution_count": 12,
   "metadata": {},
   "outputs": [
    {
     "name": "stdout",
     "output_type": "stream",
     "text": [
      "<class 'pandas.core.frame.DataFrame'>\n",
      "RangeIndex: 5000 entries, 0 to 4999\n",
      "Data columns (total 5 columns):\n",
      " #   Column             Non-Null Count  Dtype  \n",
      "---  ------             --------------  -----  \n",
      " 0   Пол                5000 non-null   int8   \n",
      " 1   Возраст            5000 non-null   int8   \n",
      " 2   Зарплата           5000 non-null   float64\n",
      " 3   Члены семьи        5000 non-null   int8   \n",
      " 4   Страховые выплаты  5000 non-null   int8   \n",
      "dtypes: float64(1), int8(4)\n",
      "memory usage: 58.7 KB\n"
     ]
    }
   ],
   "source": [
    "for column in df.columns:\n",
    "    df[column] = pd.to_numeric(df[column], downcast='integer')\n",
    "df.info()"
   ]
  },
  {
   "cell_type": "markdown",
   "metadata": {},
   "source": [
    "Таким образом, мы существенно уменьшили обращение датасета к памяти со 195.4 Kb до 58.7 Kb."
   ]
  },
  {
   "cell_type": "code",
   "execution_count": 13,
   "metadata": {
    "scrolled": true
   },
   "outputs": [
    {
     "data": {
      "text/html": [
       "<div>\n",
       "<style scoped>\n",
       "    .dataframe tbody tr th:only-of-type {\n",
       "        vertical-align: middle;\n",
       "    }\n",
       "\n",
       "    .dataframe tbody tr th {\n",
       "        vertical-align: top;\n",
       "    }\n",
       "\n",
       "    .dataframe thead th {\n",
       "        text-align: right;\n",
       "    }\n",
       "</style>\n",
       "<table border=\"1\" class=\"dataframe\">\n",
       "  <thead>\n",
       "    <tr style=\"text-align: right;\">\n",
       "      <th></th>\n",
       "      <th>Пол</th>\n",
       "      <th>Возраст</th>\n",
       "      <th>Зарплата</th>\n",
       "      <th>Члены семьи</th>\n",
       "      <th>Страховые выплаты</th>\n",
       "    </tr>\n",
       "  </thead>\n",
       "  <tbody>\n",
       "    <tr>\n",
       "      <th>count</th>\n",
       "      <td>5000.000000</td>\n",
       "      <td>5000.000000</td>\n",
       "      <td>5000.000000</td>\n",
       "      <td>5000.000000</td>\n",
       "      <td>5000.000000</td>\n",
       "    </tr>\n",
       "    <tr>\n",
       "      <th>mean</th>\n",
       "      <td>0.499000</td>\n",
       "      <td>30.952800</td>\n",
       "      <td>39916.360000</td>\n",
       "      <td>1.194200</td>\n",
       "      <td>0.148000</td>\n",
       "    </tr>\n",
       "    <tr>\n",
       "      <th>std</th>\n",
       "      <td>0.500049</td>\n",
       "      <td>8.440807</td>\n",
       "      <td>9900.083569</td>\n",
       "      <td>1.091387</td>\n",
       "      <td>0.463183</td>\n",
       "    </tr>\n",
       "    <tr>\n",
       "      <th>min</th>\n",
       "      <td>0.000000</td>\n",
       "      <td>18.000000</td>\n",
       "      <td>5300.000000</td>\n",
       "      <td>0.000000</td>\n",
       "      <td>0.000000</td>\n",
       "    </tr>\n",
       "    <tr>\n",
       "      <th>25%</th>\n",
       "      <td>0.000000</td>\n",
       "      <td>24.000000</td>\n",
       "      <td>33300.000000</td>\n",
       "      <td>0.000000</td>\n",
       "      <td>0.000000</td>\n",
       "    </tr>\n",
       "    <tr>\n",
       "      <th>50%</th>\n",
       "      <td>0.000000</td>\n",
       "      <td>30.000000</td>\n",
       "      <td>40200.000000</td>\n",
       "      <td>1.000000</td>\n",
       "      <td>0.000000</td>\n",
       "    </tr>\n",
       "    <tr>\n",
       "      <th>75%</th>\n",
       "      <td>1.000000</td>\n",
       "      <td>37.000000</td>\n",
       "      <td>46600.000000</td>\n",
       "      <td>2.000000</td>\n",
       "      <td>0.000000</td>\n",
       "    </tr>\n",
       "    <tr>\n",
       "      <th>max</th>\n",
       "      <td>1.000000</td>\n",
       "      <td>65.000000</td>\n",
       "      <td>79000.000000</td>\n",
       "      <td>6.000000</td>\n",
       "      <td>5.000000</td>\n",
       "    </tr>\n",
       "  </tbody>\n",
       "</table>\n",
       "</div>"
      ],
      "text/plain": [
       "               Пол      Возраст      Зарплата  Члены семьи  Страховые выплаты\n",
       "count  5000.000000  5000.000000   5000.000000  5000.000000        5000.000000\n",
       "mean      0.499000    30.952800  39916.360000     1.194200           0.148000\n",
       "std       0.500049     8.440807   9900.083569     1.091387           0.463183\n",
       "min       0.000000    18.000000   5300.000000     0.000000           0.000000\n",
       "25%       0.000000    24.000000  33300.000000     0.000000           0.000000\n",
       "50%       0.000000    30.000000  40200.000000     1.000000           0.000000\n",
       "75%       1.000000    37.000000  46600.000000     2.000000           0.000000\n",
       "max       1.000000    65.000000  79000.000000     6.000000           5.000000"
      ]
     },
     "execution_count": 13,
     "metadata": {},
     "output_type": "execute_result"
    }
   ],
   "source": [
    "df.describe()"
   ]
  },
  {
   "cell_type": "markdown",
   "metadata": {},
   "source": [
    "**Вывод:**\n",
    "\n",
    "Данные загружены, не имеют пропусков. Изменение типа данных позволит нам быстрее обращаться к данным."
   ]
  },
  {
   "cell_type": "markdown",
   "metadata": {},
   "source": [
    "## Умножение матриц"
   ]
  },
  {
   "cell_type": "markdown",
   "metadata": {},
   "source": [
    "В этом задании вы можете записывать формулы в *Jupyter Notebook.*\n",
    "\n",
    "Чтобы записать формулу внутри текста, окружите её символами доллара \\\\$; если снаружи —  двойными символами \\\\$\\\\$. Эти формулы записываются на языке вёрстки *LaTeX.* \n",
    "\n",
    "Для примера мы записали формулы линейной регрессии. Можете их скопировать и отредактировать, чтобы решить задачу.\n",
    "\n",
    "Работать в *LaTeX* необязательно."
   ]
  },
  {
   "cell_type": "markdown",
   "metadata": {},
   "source": [
    "Обозначения:\n",
    "\n",
    "- $X$ — матрица признаков (нулевой столбец состоит из единиц)\n",
    "\n",
    "- $y$ — вектор целевого признака\n",
    "\n",
    "- $P$ — матрица, на которую умножаются признаки\n",
    "\n",
    "- $w$ — вектор весов линейной регрессии (нулевой элемент равен сдвигу)"
   ]
  },
  {
   "cell_type": "markdown",
   "metadata": {},
   "source": [
    "Предсказания:\n",
    "\n",
    "$$\n",
    "a = Xw\n",
    "$$\n",
    "\n",
    "Задача обучения:\n",
    "\n",
    "$$\n",
    "w = \\arg\\min_w MSE(Xw, y)\n",
    "$$\n",
    "\n",
    "Формула обучения:\n",
    "\n",
    "$$\n",
    "w = (X^T X)^{-1} X^T y\n",
    "$$"
   ]
  },
  {
   "cell_type": "markdown",
   "metadata": {},
   "source": [
    "**Вопрос:** Признаки умножают на обратимую матрицу. Изменится ли качество линейной регрессии?\n",
    "\n",
    "**Ответ:** Не изменится.\n",
    "\n",
    "**Обоснование:** \n",
    "\n",
    "Заменим матрицу $Х$ на $Z$, путем умножения матрицы $Х$ на некую квадратную обратимую матрицу $P$.\n",
    "\n",
    "$$\n",
    "Z = XP~~~~~(уравнение~1)\n",
    "$$\n",
    "\n",
    "Таким образом для матрицы $Z$ предсказание и вектор весов будет равно:\n",
    "\n",
    "$$\n",
    "a_1 = Zw_1~~~~~(уравнение~2)\n",
    "$$\n",
    "$$\n",
    "w_1 = (Z^T Z)^{-1} Z^Ty~~~~~(уравнение~3)\n",
    "$$\n",
    "\n",
    "Подставим в уравнение 2 значение $w_1$ из уравнения 3\n",
    "\n",
    "$$\n",
    "a_1 = Z(Z^T Z)^{-1} Z^Ty\n",
    "$$\n",
    "\n",
    "Теперь заменим все $Z$ правой частью уравнения 1 и получим следующее\n",
    "\n",
    "$$\n",
    "a_1 = XP((XP)^T(XP))^{-1}(XP)^Ty\n",
    "$$\n",
    "\n",
    "Теперь используем свойство обратной матрицы, согласно которому обратное произведение матриц равно произведению обратных матриц, взятых в обратном порядке, то есть $(AB)^{-1} = B^{-1}A^{-1}$, вследствие чего, раскрыв через данное свойство часть уравнения $((XP)^T(XP))^{-1}$ получаем следующее\n",
    "\n",
    "$$\n",
    "a_1 = XP(XP)^{-1}((XP)^T)^{-1}(XP)^Ty\n",
    "$$\n",
    "\n",
    "Далее с помощью того же свойства обратной матрицы раскроем часть уравнения $(XP)^{-1}$, в результате чего получаем\n",
    "\n",
    "$$\n",
    "a_1 = XPP^{-1}X^{-1}((XP)^T)^{-1}(XP)^Ty\n",
    "$$\n",
    "\n",
    "Понимая, что $PP^{-1} = E$, то есть дает нам единичную матрицу, которая никак не влияет на результат уравнения и ее можно просто убрать, далее воспользуемся свойством транспонированной матрицы, согласно которому транспонированное произведение матриц равно произведению транспонированных матриц, взятых в обратном порядке, то есть $(AB)^T = B^TA^T$, раскроем $(XP)^T$ и получим\n",
    "\n",
    "$$\n",
    "a_1 = XEX^{-1}((XP)^T)^{-1}(XP)^Ty\n",
    "$$\n",
    "$$\n",
    "a_1 = XX^{-1}(P^TX^T)^{-1}P^TX^Ty\n",
    "$$\n",
    "\n",
    "Затем вновь применим ранее упоминавшееся свойство обратной матрицы к части $(P^TX^T)^{-1}$ и получим следующее\n",
    "\n",
    "$$\n",
    "a_1 = XX^{-1}(X^T)^{-1}(P^T)^{-1}P^TX^Ty\n",
    "$$\n",
    "\n",
    "Учитывая, что часть уравнения $(P^T)^{-1}P^T = E$, то есть также дает нам единичную матрицу, взглянем на уравнение, применив свойство обратной матрицы к части уравнения $X^{-1}(X^T)^{-1}$\n",
    "\n",
    "$$\n",
    "a_1 = XX^{-1}(X^T)^{-1}EX^Ty\n",
    "$$\n",
    "$$\n",
    "a_1 = X(X^TX)^{-1}X^Ty\n",
    "$$\n",
    "\n",
    "Как мы видим, осталось используя формулу предсказания ($a = Xw$) и формулу обучения ($w = (X^TX)^{-1}X^Ty$), заменить часть полученного уравнения $(X^TX)^{-1}X^Ty$ на $w$, чтобы доказать равенство $a$ и $a_1$, то есть равенство значений предсказаний как для оригинальной матрицы, так и для произведения такой матрицы на обратимую матрицу\n",
    "\n",
    "$$\n",
    "a_1 = X(X^TX)^{-1}X^Ty\n",
    "$$\n",
    "$$\n",
    "a_1 = Xw\n",
    "$$\n",
    "$$\n",
    "a_1 = a\n",
    "$$"
   ]
  },
  {
   "cell_type": "markdown",
   "metadata": {},
   "source": [
    "**Вывод:** \n",
    "\n",
    "Мы пришли к обоснованному выводу, что качество линейной регрессии для признаков, умноженных на обратимую матрицу, не изменится."
   ]
  },
  {
   "cell_type": "markdown",
   "metadata": {},
   "source": [
    "## Алгоритм преобразования"
   ]
  },
  {
   "cell_type": "markdown",
   "metadata": {},
   "source": [
    "**Алгоритм**\n",
    "\n",
    "Для защиты персональной информации будем умножать матрицу признаков на обратимую матрицу $P$, которая будет генерироваться случайным образом.\n",
    "\n",
    "Этапы алгоритма:\n",
    "\n",
    "1. Генерирование матрицы $P$ (размер матрицы выбираем в зависимости о количества признаков, то есть столбцов датасета, путем использования в коде shape[1]).\n",
    "2. Проверка матрицы $P$ на обратимость путем вычисления определителя матрицы $P$ для соблюдения необходимости применения обратимой матрицы. В случае необратимости сгенерированной матрицы снова возвращаемся к п.1 алгоритма.\n",
    "3. Получение матрицы преобразованных признаков $Z = XP$.\n",
    "4. Применение алгоритма на преобразованных признаках $Z$."
   ]
  },
  {
   "cell_type": "markdown",
   "metadata": {},
   "source": [
    "**Обоснование**\n",
    "\n",
    "Матрица $P$ должна иметь необходимую размерность (n x n), где n - количество признаков для регрессии. Таким образом матрица $Z$ будет иметь туже размерность, что и матрица $X$. Обратная матрица существует только для квадратных невырожденных матриц (то есть определитель которых не равен нулю).\n",
    "\n",
    "Учитывая, что количество признаков датасета (исключая целевой признак) равняется 4, необходимая обратимая матрица должна иметь размерность 4 х 4.  \n",
    "\n",
    "Умножение матрицы оригинальных признаков на обратимую матрицу соответствущей размерности, приведет персональные данные в труднопонимаемый для человека вид, при этом, как мы доказали на предыдущем этапе, будет возможно использование зашифрованных таким образом данных для обучения модели линейной регрессии, качество которой для признаков, умноженных на обратимую матрицу, не изменится."
   ]
  },
  {
   "cell_type": "markdown",
   "metadata": {},
   "source": [
    "**Вывод:**\n",
    "\n",
    "Предложен алгоритм защиты персональных данных, который мы проверим далее. "
   ]
  },
  {
   "cell_type": "markdown",
   "metadata": {},
   "source": [
    "## Проверка алгоритма"
   ]
  },
  {
   "cell_type": "markdown",
   "metadata": {},
   "source": [
    "Сначала разобьем датасет на части с признаками и целевым признаком."
   ]
  },
  {
   "cell_type": "code",
   "execution_count": 14,
   "metadata": {},
   "outputs": [
    {
     "data": {
      "text/plain": [
       "((5000, 4), (5000,))"
      ]
     },
     "execution_count": 14,
     "metadata": {},
     "output_type": "execute_result"
    }
   ],
   "source": [
    "features = df.drop(\"Страховые выплаты\", axis=1)\n",
    "target = df[\"Страховые выплаты\"]\n",
    "\n",
    "features.shape, target.shape"
   ]
  },
  {
   "cell_type": "markdown",
   "metadata": {},
   "source": [
    "Проверим, что линейная регрессия из scikit-learn вычисляет значения по формуле $w = (X^T X)^{-1} X^T y$."
   ]
  },
  {
   "cell_type": "code",
   "execution_count": 15,
   "metadata": {},
   "outputs": [
    {
     "data": {
      "text/plain": [
       "array([ 7.92580543e-03,  3.57083050e-02, -1.70080492e-07, -1.35676623e-02])"
      ]
     },
     "metadata": {},
     "output_type": "display_data"
    },
    {
     "data": {
      "text/plain": [
       "array([ 7.92580543e-03,  3.57083050e-02, -1.70080492e-07, -1.35676623e-02])"
      ]
     },
     "execution_count": 15,
     "metadata": {},
     "output_type": "execute_result"
    }
   ],
   "source": [
    "X = np.concatenate((np.ones((features.shape[0], 1)), features), axis=1)\n",
    "y = target\n",
    "w = np.linalg.inv(X.T @ X) @ X.T @ y\n",
    "display(w[1:])\n",
    "model = LinearRegression()\n",
    "model.fit(features, target)\n",
    "model.coef_"
   ]
  },
  {
   "cell_type": "markdown",
   "metadata": {},
   "source": [
    "Как мы видим, у нас имеется полное совпадение коэффициентов регрессии."
   ]
  },
  {
   "cell_type": "markdown",
   "metadata": {},
   "source": [
    "Теперь исследуем качество моделей линейной регрессии на:\n",
    "- оригинальных признаках;\n",
    "- на отмасштабированных оригинальных признаках;\n",
    "- на признаках после преобразования;\n",
    "- на отмасштабированных признаках после преобразования.\n",
    "\n",
    "Для начала разделим признаки на обучающую и тестовую выборки."
   ]
  },
  {
   "cell_type": "code",
   "execution_count": 16,
   "metadata": {},
   "outputs": [],
   "source": [
    "features_train, features_test, target_train, target_test = train_test_split(\n",
    "    features, target, test_size=0.25, random_state=3301)"
   ]
  },
  {
   "cell_type": "markdown",
   "metadata": {},
   "source": [
    "Теперь взглянем на показатели модели на оригинальных признаках."
   ]
  },
  {
   "cell_type": "code",
   "execution_count": 17,
   "metadata": {},
   "outputs": [
    {
     "name": "stdout",
     "output_type": "stream",
     "text": [
      "R2 = 0.4092825730468017\n"
     ]
    }
   ],
   "source": [
    "model = LinearRegression()\n",
    "model.fit(features_train, target_train)\n",
    "R2_original_df = r2_score(target_test, model.predict(features_test))\n",
    "print(\"R2 =\", R2_original_df)"
   ]
  },
  {
   "cell_type": "markdown",
   "metadata": {},
   "source": [
    "Теперь посмотрим на метрику модели после масштабирования."
   ]
  },
  {
   "cell_type": "code",
   "execution_count": 18,
   "metadata": {},
   "outputs": [
    {
     "name": "stdout",
     "output_type": "stream",
     "text": [
      "R2 = 0.4092825730468006\n"
     ]
    }
   ],
   "source": [
    "regressor = LinearRegression()\n",
    "scaler = StandardScaler()\n",
    "pipeline = Pipeline([(\"standard_scaler\", scaler), (\"linear_regression\", regressor)])\n",
    "pipeline.fit(features_train, target_train)\n",
    "R2_original_df_scaled = r2_score(target_test, pipeline.predict(features_test))\n",
    "print(\"R2 =\", R2_original_df_scaled)"
   ]
  },
  {
   "cell_type": "markdown",
   "metadata": {},
   "source": [
    "Как мы видим, качество регрессии на оригинальных признаках после масштабирования осталось прежним, незначительные расхождения после 15 знака после запятой отнесем к особенностям точности хранения дробных чисел в python."
   ]
  },
  {
   "cell_type": "markdown",
   "metadata": {},
   "source": [
    "Теперь проведем шифрование признаков, то есть преобразуем датасет с признаками, умножив его на псевдослучайно сгенерированную обратимую матрицу, которую используем как шифр. При этом сразу введем защиту от случайного создания необратимой матрицы (то есть такой, определитель которой равен 0)."
   ]
  },
  {
   "cell_type": "code",
   "execution_count": 19,
   "metadata": {},
   "outputs": [],
   "source": [
    "n = features.shape[1]\n",
    "np.random.seed(3301)\n",
    "matrix_cipher = np.random.randint(1, 10, (n,n))\n",
    "det = np.linalg.det(matrix_cipher)\n",
    "while det == 0:\n",
    "    matrix_cipher = np.random.randint(1, 10, (n,n))\n",
    "    det = np.linalg.det(matrix_cipher)\n",
    "encrypted_features = features @ matrix_cipher"
   ]
  },
  {
   "cell_type": "markdown",
   "metadata": {},
   "source": [
    "Давайте взглянем на то, как выглядят оригинальные данные, и на то, насколько от них отличаются зашифрованные данные, а также на матрицу-шифр."
   ]
  },
  {
   "cell_type": "code",
   "execution_count": 12,
   "metadata": {},
   "outputs": [
    {
     "name": "stdout",
     "output_type": "stream",
     "text": [
      "Оригинальные данные признаков\n"
     ]
    },
    {
     "data": {
      "text/html": [
       "<div>\n",
       "<style scoped>\n",
       "    .dataframe tbody tr th:only-of-type {\n",
       "        vertical-align: middle;\n",
       "    }\n",
       "\n",
       "    .dataframe tbody tr th {\n",
       "        vertical-align: top;\n",
       "    }\n",
       "\n",
       "    .dataframe thead th {\n",
       "        text-align: right;\n",
       "    }\n",
       "</style>\n",
       "<table border=\"1\" class=\"dataframe\">\n",
       "  <thead>\n",
       "    <tr style=\"text-align: right;\">\n",
       "      <th></th>\n",
       "      <th>Пол</th>\n",
       "      <th>Возраст</th>\n",
       "      <th>Зарплата</th>\n",
       "      <th>Члены семьи</th>\n",
       "    </tr>\n",
       "  </thead>\n",
       "  <tbody>\n",
       "    <tr>\n",
       "      <th>0</th>\n",
       "      <td>1</td>\n",
       "      <td>41</td>\n",
       "      <td>49600.0</td>\n",
       "      <td>1</td>\n",
       "    </tr>\n",
       "    <tr>\n",
       "      <th>1</th>\n",
       "      <td>0</td>\n",
       "      <td>46</td>\n",
       "      <td>38000.0</td>\n",
       "      <td>1</td>\n",
       "    </tr>\n",
       "    <tr>\n",
       "      <th>2</th>\n",
       "      <td>0</td>\n",
       "      <td>29</td>\n",
       "      <td>21000.0</td>\n",
       "      <td>0</td>\n",
       "    </tr>\n",
       "    <tr>\n",
       "      <th>3</th>\n",
       "      <td>0</td>\n",
       "      <td>21</td>\n",
       "      <td>41700.0</td>\n",
       "      <td>2</td>\n",
       "    </tr>\n",
       "    <tr>\n",
       "      <th>4</th>\n",
       "      <td>1</td>\n",
       "      <td>28</td>\n",
       "      <td>26100.0</td>\n",
       "      <td>0</td>\n",
       "    </tr>\n",
       "  </tbody>\n",
       "</table>\n",
       "</div>"
      ],
      "text/plain": [
       "   Пол  Возраст  Зарплата  Члены семьи\n",
       "0    1       41   49600.0            1\n",
       "1    0       46   38000.0            1\n",
       "2    0       29   21000.0            0\n",
       "3    0       21   41700.0            2\n",
       "4    1       28   26100.0            0"
      ]
     },
     "metadata": {},
     "output_type": "display_data"
    },
    {
     "name": "stdout",
     "output_type": "stream",
     "text": [
      "\n",
      "Зашифрованные данные признаков\n"
     ]
    },
    {
     "data": {
      "text/html": [
       "<div>\n",
       "<style scoped>\n",
       "    .dataframe tbody tr th:only-of-type {\n",
       "        vertical-align: middle;\n",
       "    }\n",
       "\n",
       "    .dataframe tbody tr th {\n",
       "        vertical-align: top;\n",
       "    }\n",
       "\n",
       "    .dataframe thead th {\n",
       "        text-align: right;\n",
       "    }\n",
       "</style>\n",
       "<table border=\"1\" class=\"dataframe\">\n",
       "  <thead>\n",
       "    <tr style=\"text-align: right;\">\n",
       "      <th></th>\n",
       "      <th>0</th>\n",
       "      <th>1</th>\n",
       "      <th>2</th>\n",
       "      <th>3</th>\n",
       "    </tr>\n",
       "  </thead>\n",
       "  <tbody>\n",
       "    <tr>\n",
       "      <th>0</th>\n",
       "      <td>49894.0</td>\n",
       "      <td>446700.0</td>\n",
       "      <td>446654.0</td>\n",
       "      <td>49942.0</td>\n",
       "    </tr>\n",
       "    <tr>\n",
       "      <th>1</th>\n",
       "      <td>38327.0</td>\n",
       "      <td>342326.0</td>\n",
       "      <td>342281.0</td>\n",
       "      <td>38373.0</td>\n",
       "    </tr>\n",
       "    <tr>\n",
       "      <th>2</th>\n",
       "      <td>21203.0</td>\n",
       "      <td>189203.0</td>\n",
       "      <td>189174.0</td>\n",
       "      <td>21232.0</td>\n",
       "    </tr>\n",
       "    <tr>\n",
       "      <th>3</th>\n",
       "      <td>41857.0</td>\n",
       "      <td>375455.0</td>\n",
       "      <td>375436.0</td>\n",
       "      <td>41878.0</td>\n",
       "    </tr>\n",
       "    <tr>\n",
       "      <th>4</th>\n",
       "      <td>26298.0</td>\n",
       "      <td>235105.0</td>\n",
       "      <td>235071.0</td>\n",
       "      <td>26333.0</td>\n",
       "    </tr>\n",
       "  </tbody>\n",
       "</table>\n",
       "</div>"
      ],
      "text/plain": [
       "         0         1         2        3\n",
       "0  49894.0  446700.0  446654.0  49942.0\n",
       "1  38327.0  342326.0  342281.0  38373.0\n",
       "2  21203.0  189203.0  189174.0  21232.0\n",
       "3  41857.0  375455.0  375436.0  41878.0\n",
       "4  26298.0  235105.0  235071.0  26333.0"
      ]
     },
     "metadata": {},
     "output_type": "display_data"
    },
    {
     "name": "stdout",
     "output_type": "stream",
     "text": [
      "\n",
      "Матрица-шифр\n"
     ]
    },
    {
     "data": {
      "text/plain": [
       "array([[2, 9, 3, 9],\n",
       "       [7, 7, 6, 8],\n",
       "       [1, 9, 9, 1],\n",
       "       [5, 4, 5, 5]])"
      ]
     },
     "execution_count": 12,
     "metadata": {},
     "output_type": "execute_result"
    }
   ],
   "source": [
    "print('Оригинальные данные признаков')\n",
    "display(features.head())\n",
    "print()\n",
    "print('Зашифрованные данные признаков')\n",
    "display(encrypted_features.head())\n",
    "print()\n",
    "print('Матрица-шифр')\n",
    "matrix_cipher"
   ]
  },
  {
   "cell_type": "markdown",
   "metadata": {},
   "source": [
    "Как мы видим, в зашифрованных данных в качестве значений указаны совершенно непонятные числа. Шифрование прошло успешно. Теперь разделим зашифрованные данные на обучающую и тестовую выборки, и проверим R2-метрику модели, обученной на них. "
   ]
  },
  {
   "cell_type": "code",
   "execution_count": 13,
   "metadata": {},
   "outputs": [],
   "source": [
    "encrypted_features_train, encrypted_features_test, target_train, target_test = train_test_split(\n",
    "    encrypted_features, target, test_size=0.25, random_state=3301)"
   ]
  },
  {
   "cell_type": "code",
   "execution_count": 14,
   "metadata": {},
   "outputs": [
    {
     "name": "stdout",
     "output_type": "stream",
     "text": [
      "R2 = 0.40928257304664983\n"
     ]
    }
   ],
   "source": [
    "model = LinearRegression()\n",
    "model.fit(encrypted_features_train, target_train)\n",
    "R2_cipher_df = r2_score(target_test, model.predict(encrypted_features_test))\n",
    "print(\"R2 =\", R2_cipher_df)"
   ]
  },
  {
   "cell_type": "markdown",
   "metadata": {},
   "source": [
    "Теперь взглянем на R2-метрику модели, обученной на зашифрованных данных с применением к ним масштабирования."
   ]
  },
  {
   "cell_type": "code",
   "execution_count": 15,
   "metadata": {},
   "outputs": [
    {
     "name": "stdout",
     "output_type": "stream",
     "text": [
      "R2 = 0.40928257304680726\n"
     ]
    }
   ],
   "source": [
    "regressor = LinearRegression()\n",
    "scaler = StandardScaler()\n",
    "pipeline = Pipeline([(\"standard_scaler\", scaler),(\"linear_regression\", regressor)])\n",
    "pipeline.fit(encrypted_features_train, target_train)\n",
    "R2_cipher_df_scaled = r2_score(target_test, pipeline.predict(encrypted_features_test))\n",
    "print(\"R2 =\", R2_cipher_df_scaled)"
   ]
  },
  {
   "cell_type": "markdown",
   "metadata": {},
   "source": [
    "Окончательно сравним R2-метрики всех обученных моделей."
   ]
  },
  {
   "cell_type": "code",
   "execution_count": 16,
   "metadata": {},
   "outputs": [
    {
     "data": {
      "text/html": [
       "<div>\n",
       "<style scoped>\n",
       "    .dataframe tbody tr th:only-of-type {\n",
       "        vertical-align: middle;\n",
       "    }\n",
       "\n",
       "    .dataframe tbody tr th {\n",
       "        vertical-align: top;\n",
       "    }\n",
       "\n",
       "    .dataframe thead th {\n",
       "        text-align: right;\n",
       "    }\n",
       "</style>\n",
       "<table border=\"1\" class=\"dataframe\">\n",
       "  <thead>\n",
       "    <tr style=\"text-align: right;\">\n",
       "      <th></th>\n",
       "      <th>R2</th>\n",
       "    </tr>\n",
       "  </thead>\n",
       "  <tbody>\n",
       "    <tr>\n",
       "      <th>Линейная регрессия</th>\n",
       "      <td>0.409283</td>\n",
       "    </tr>\n",
       "    <tr>\n",
       "      <th>Линейная регрессия c масштабированнием</th>\n",
       "      <td>0.409283</td>\n",
       "    </tr>\n",
       "    <tr>\n",
       "      <th>Линейная регрессия на преобразованных признаках</th>\n",
       "      <td>0.409283</td>\n",
       "    </tr>\n",
       "    <tr>\n",
       "      <th>Линейная регрессия на преобразованных признаках c масштабированием</th>\n",
       "      <td>0.409283</td>\n",
       "    </tr>\n",
       "  </tbody>\n",
       "</table>\n",
       "</div>"
      ],
      "text/plain": [
       "                                                          R2\n",
       "Линейная регрессия                                  0.409283\n",
       "Линейная регрессия c масштабированнием              0.409283\n",
       "Линейная регрессия на преобразованных признаках     0.409283\n",
       "Линейная регрессия на преобразованных признаках...  0.409283"
      ]
     },
     "execution_count": 16,
     "metadata": {},
     "output_type": "execute_result"
    }
   ],
   "source": [
    "result = pd.DataFrame(data= [R2_original_df,\n",
    "                      R2_original_df_scaled,\n",
    "                      R2_cipher_df,\n",
    "                      R2_cipher_df_scaled], \n",
    "                     columns=['R2'], \n",
    "                     index=['Линейная регрессия',\n",
    "                            'Линейная регрессия c масштабированнием',\n",
    "                            'Линейная регрессия на преобразованных признаках',\n",
    "                            'Линейная регрессия на преобразованных признаках c масштабированием'])\n",
    "result"
   ]
  },
  {
   "cell_type": "markdown",
   "metadata": {},
   "source": [
    "**Вывод:**\n",
    "\n",
    "Все R2-метрики, как на оригинальных данных, так и на преобразованных данных, как с применением масштабирования, так и без этого, одинаковы. "
   ]
  },
  {
   "cell_type": "markdown",
   "metadata": {},
   "source": [
    "**Общие выводы:**\n",
    "\n",
    "В ходе работы мы загрузили и изучили данные, определи, что качество линейной регрессии не меняется от использования оригнальной матрицы, так и матрицы, умноженной на обратимую, создали алгоритм преобразования данных, после чего исследовали алгоритм преобразования данных и проверили метрику R2 для данных без преобразования и с ним.\n",
    "\n",
    "По результатам работы можно утверждать, что данные можно легко зашифровать от распознавания, имея правильную (обратимую и соответствующей размерности) матрицу."
   ]
  }
 ],
 "metadata": {
  "ExecuteTimeLog": [
   {
    "duration": 3145,
    "start_time": "2023-05-19T02:35:53.310Z"
   },
   {
    "duration": 247,
    "start_time": "2023-05-19T02:35:56.457Z"
   },
   {
    "duration": 22,
    "start_time": "2023-05-19T02:35:56.711Z"
   },
   {
    "duration": 15,
    "start_time": "2023-05-19T02:35:56.735Z"
   },
   {
    "duration": 17,
    "start_time": "2023-05-19T02:35:56.752Z"
   },
   {
    "duration": 15,
    "start_time": "2023-05-19T02:35:56.770Z"
   },
   {
    "duration": 66,
    "start_time": "2023-05-19T02:35:56.787Z"
   },
   {
    "duration": 41,
    "start_time": "2023-05-19T02:35:56.880Z"
   },
   {
    "duration": 38,
    "start_time": "2023-05-19T02:35:56.977Z"
   },
   {
    "duration": 30,
    "start_time": "2023-05-19T02:35:57.017Z"
   },
   {
    "duration": 8,
    "start_time": "2023-05-19T02:35:57.049Z"
   },
   {
    "duration": 47,
    "start_time": "2023-05-19T02:35:57.058Z"
   },
   {
    "duration": 37,
    "start_time": "2023-05-19T02:35:57.107Z"
   },
   {
    "duration": 15,
    "start_time": "2023-05-19T02:35:57.147Z"
   },
   {
    "duration": 23,
    "start_time": "2023-05-19T02:35:57.164Z"
   },
   {
    "duration": 56,
    "start_time": "2023-05-19T02:35:57.189Z"
   }
  ],
  "kernelspec": {
   "display_name": "Python 3 (ipykernel)",
   "language": "python",
   "name": "python3"
  },
  "language_info": {
   "codemirror_mode": {
    "name": "ipython",
    "version": 3
   },
   "file_extension": ".py",
   "mimetype": "text/x-python",
   "name": "python",
   "nbconvert_exporter": "python",
   "pygments_lexer": "ipython3",
   "version": "3.11.5"
  },
  "toc": {
   "base_numbering": 1,
   "nav_menu": {
    "height": "123.99px",
    "width": "395.99px"
   },
   "number_sections": true,
   "sideBar": true,
   "skip_h1_title": true,
   "title_cell": "Содержание",
   "title_sidebar": "Contents",
   "toc_cell": true,
   "toc_position": {},
   "toc_section_display": true,
   "toc_window_display": false
  }
 },
 "nbformat": 4,
 "nbformat_minor": 2
}
